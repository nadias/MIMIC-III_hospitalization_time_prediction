{
 "cells": [
  {
   "cell_type": "markdown",
   "metadata": {},
   "source": [
    "# Predicting hospitalization times\n",
    "## Nádia Soares, Rafael Santos, Tiago Ribeiro\n",
    "\n",
    "\n",
    "---\n",
    "\n"
   ]
  },
  {
   "cell_type": "markdown",
   "metadata": {},
   "source": [
    "The goal of this project is to predict the hospitalization times given the MIMIC-III dataset on hospitalization events. The data includes information about the patient, ICU, medical exams that were performed and their results, among other variables.\n",
    "\n",
    "This notebook presents an exploratory data analysis using Seaborn, model creation and evaluation using Keras with a TensorFlow backend. It was created to run on a PySpark cluster, which, in our case, was deployed on Google Cloud."
   ]
  },
  {
   "cell_type": "markdown",
   "metadata": {},
   "source": [
    " "
   ]
  },
  {
   "cell_type": "markdown",
   "metadata": {},
   "source": [
    "---"
   ]
  },
  {
   "cell_type": "markdown",
   "metadata": {},
   "source": [
    "## The following commands need to be executed outside the python interpreter:"
   ]
  },
  {
   "cell_type": "markdown",
   "metadata": {},
   "source": [
    "* gsutil cp gs:/.../*.GZ .\n",
    "* gsutil cp gs:/.../*.CSV .\n",
    "\n",
    "* gunzip *.GZ\n",
    "\n",
    "* sudo hadoop fs -put EVENTS.csv\n",
    "* sudo hadoop fs -put ADMISSIONS.csv\n",
    "* sudo hadoop fs -put DIAGNOSES_ICD.csv\n",
    "* sudo hadoop fs -put D_ICD_DIAGNOSES.csv\n",
    "* sudo hadoop fs -put D_ITEMS.csv\n"
   ]
  },
  {
   "cell_type": "markdown",
   "metadata": {},
   "source": [
    "---"
   ]
  },
  {
   "cell_type": "markdown",
   "metadata": {},
   "source": [
    "## (1) Definition of basic functions:"
   ]
  },
  {
   "cell_type": "code",
   "execution_count": 25,
   "metadata": {},
   "outputs": [],
   "source": [
    "if __name__ == \"__main__\" :\n",
    "    # This block is required to run the program from the command line\n",
    "    # in interface with a single Spark instance\n",
    "    from pyspark import SparkContext\n",
    "    from pyspark.sql import SparkSession\n",
    "    \n",
    "    spark = SparkSession\\\n",
    "        .builder\\\n",
    "        .appName(\"BDCCp2\")\\\n",
    "        .master(\"local[*]\")\\\n",
    "        .getOrCreate()\n",
    "        \n",
    "    \n",
    "    sc = spark.sparkContext\n",
    "    sc.setLogLevel(\"WARN\")"
   ]
  },
  {
   "cell_type": "code",
   "execution_count": 26,
   "metadata": {},
   "outputs": [],
   "source": [
    "from pyspark.sql import functions as F\n",
    "from pyspark.sql.types import ArrayType,IntegerType\n",
    "import numpy as np\n",
    "import matplotlib.mlab as mlab\n",
    "import matplotlib.pyplot as plt\n",
    "import math\n",
    "\n",
    "import pathlib\n",
    "\n",
    "import pandas as pd\n",
    "\n",
    "import tensorflow as tf\n",
    "from tensorflow import keras\n",
    "from tensorflow.keras import layers\n",
    "\n",
    "from sklearn import preprocessing\n",
    "\n",
    "import seaborn as sns"
   ]
  },
  {
   "cell_type": "code",
   "execution_count": 27,
   "metadata": {},
   "outputs": [],
   "source": [
    "def readCSV(file, debug=False):\n",
    "    if debug:\n",
    "        print('Reading ' + file)\n",
    "    return spark.read.csv(file, inferSchema=True, header=True)\n",
    "\n",
    "def readParquet(file, debug=False): \n",
    "    if debug:\n",
    "        print('Reading ' + file)\n",
    "    return spark.read.parquet(file)\n",
    "\n",
    "def writeCSV(df, path): \n",
    "    df.write.csv(path, header=True, mode='overwrite')\n",
    "\n",
    "def writeParquet(df,path):\n",
    "    df.write.mode(\"overwrite\").parquet(path)"
   ]
  },
  {
   "cell_type": "code",
   "execution_count": 28,
   "metadata": {},
   "outputs": [],
   "source": [
    "# Define F.array_intersect if not defined (Spark version < 2.4)\n",
    "if not hasattr(F,'array_intersect'):\n",
    "    F.array_intersect = spark.udf\\\n",
    "        .register('array_intersect', \n",
    "           lambda x,y: list(set(x) & set(y)), ArrayType(IntegerType()))\n",
    "\n",
    "# Define F.array_union if not defined (Spark version < 2.4)\n",
    "if not hasattr(F,'array_union'):\n",
    "    F.array_union = spark.udf\\\n",
    "        .register('array_union', \n",
    "            lambda x,y: list(set(x) | set(y)), ArrayType(IntegerType()))"
   ]
  },
  {
   "cell_type": "markdown",
   "metadata": {},
   "source": [
    "---"
   ]
  },
  {
   "cell_type": "markdown",
   "metadata": {},
   "source": [
    "## <span style=\"color:red\"> Note: </span> If the parquet files already exist, jump to **7!** "
   ]
  },
  {
   "cell_type": "markdown",
   "metadata": {},
   "source": [
    "---"
   ]
  },
  {
   "cell_type": "markdown",
   "metadata": {},
   "source": [
    "## (2) Load the data:"
   ]
  },
  {
   "cell_type": "code",
   "execution_count": null,
   "metadata": {},
   "outputs": [],
   "source": [
    "database = readCSV('EVENTS.csv', False)"
   ]
  },
  {
   "cell_type": "code",
   "execution_count": null,
   "metadata": {},
   "outputs": [],
   "source": [
    "writeParquet(database,\"database.parquet\")\n",
    "#22:32 - 23:14"
   ]
  },
  {
   "cell_type": "code",
   "execution_count": null,
   "metadata": {},
   "outputs": [],
   "source": [
    "admissions = readCSV('ADMISSIONS.csv', False)"
   ]
  },
  {
   "cell_type": "code",
   "execution_count": null,
   "metadata": {},
   "outputs": [],
   "source": [
    "writeParquet(admissions,\"admissions.parquet\")"
   ]
  },
  {
   "cell_type": "code",
   "execution_count": null,
   "metadata": {},
   "outputs": [],
   "source": [
    "diagnoses_icd = readCSV('DIAGNOSES_ICD.csv', False)"
   ]
  },
  {
   "cell_type": "code",
   "execution_count": null,
   "metadata": {},
   "outputs": [],
   "source": [
    "writeParquet(diagnoses_icd,\"diagnoses_icd.parquet\")"
   ]
  },
  {
   "cell_type": "code",
   "execution_count": null,
   "metadata": {},
   "outputs": [],
   "source": [
    "d_icd_diagnoses = readCSV('D_ICD_DIAGNOSES.csv', False)"
   ]
  },
  {
   "cell_type": "code",
   "execution_count": null,
   "metadata": {},
   "outputs": [],
   "source": [
    "writeParquet(d_icd_diagnoses,\"d_icd_diagnoses.parquet\")"
   ]
  },
  {
   "cell_type": "code",
   "execution_count": null,
   "metadata": {},
   "outputs": [],
   "source": [
    "d_icd_procedures = readCSV('D_ICD_PROCEDURES.csv', False)"
   ]
  },
  {
   "cell_type": "code",
   "execution_count": null,
   "metadata": {},
   "outputs": [],
   "source": [
    "writeParquet(d_icd_procedures,\"d_icd_procedures.parquet\")"
   ]
  },
  {
   "cell_type": "code",
   "execution_count": null,
   "metadata": {},
   "outputs": [],
   "source": [
    "d_items = readCSV('D_ITEMS.csv', False)"
   ]
  },
  {
   "cell_type": "code",
   "execution_count": null,
   "metadata": {},
   "outputs": [],
   "source": [
    "writeParquet(d_items,\"d_items.parquet\")"
   ]
  },
  {
   "cell_type": "markdown",
   "metadata": {},
   "source": [
    "## (3) Generate Tempos dataset"
   ]
  },
  {
   "cell_type": "code",
   "execution_count": null,
   "metadata": {},
   "outputs": [],
   "source": [
    "tempos = database\\\n",
    "    .groupby('SUBJECT_ID', 'HADM_ID', 'ICUSTAY_ID')\\\n",
    "    .agg(F.min('CHARTTIME').alias('first_timestamp'),F.max('CHARTTIME').alias('last_timestamp'))\n",
    "\n",
    "\n",
    "tempos = tempos.withColumn('duration', \n",
    "                           (F.unix_timestamp(F.col('last_timestamp')) -\n",
    "                            F.unix_timestamp(F.col('first_timestamp')))/60)\n"
   ]
  },
  {
   "cell_type": "code",
   "execution_count": null,
   "metadata": {},
   "outputs": [],
   "source": [
    "writeParquet(tempos,\"tempos.parquet\")\n",
    "#22:12 - 22:31"
   ]
  },
  {
   "cell_type": "markdown",
   "metadata": {},
   "source": [
    "## (4) Generate 24h dataset"
   ]
  },
  {
   "cell_type": "code",
   "execution_count": null,
   "metadata": {},
   "outputs": [],
   "source": [
    "join_condition = [database.SUBJECT_ID == tempos.SUBJECT_ID , \\\n",
    "                  database.HADM_ID == tempos.HADM_ID , \\\n",
    "                  database.ICUSTAY_ID == tempos.ICUSTAY_ID]\n",
    "\n",
    "database24h = database\\\n",
    "    .join(tempos,join_condition)\\\n",
    "    .filter(F.unix_timestamp(database.CHARTTIME) < F.unix_timestamp(tempos.first_timestamp) + (86400))\\\n",
    "    .select(database.SUBJECT_ID,\\\n",
    "            database.HADM_ID,\\\n",
    "            database.ICUSTAY_ID,\\\n",
    "            database.ITEMID,\\\n",
    "            database.CHARTTIME,\\\n",
    "            database.CGID,\\\n",
    "            database.VALUE,\\\n",
    "            database.VALUENUM,\\\n",
    "            database.VALUEUOM)\n",
    "\n",
    "    \n",
    "# 86400 = 60s * 60min * 24h"
   ]
  },
  {
   "cell_type": "code",
   "execution_count": null,
   "metadata": {},
   "outputs": [],
   "source": [
    "writeParquet(database24h,\"database24h.parquet\")"
   ]
  },
  {
   "cell_type": "markdown",
   "metadata": {},
   "source": [
    "## (5) Generate aggregation of the first 24 hours"
   ]
  },
  {
   "cell_type": "code",
   "execution_count": null,
   "metadata": {},
   "outputs": [],
   "source": [
    "agg24h = database24h\\\n",
    "    .drop('CHARTTIME')\\\n",
    "    .drop('CGID')\\\n",
    "    .drop('VALUE')\\\n",
    "    .drop('VALUEUOM')\\\n",
    "    .groupby('SUBJECT_ID', 'HADM_ID', 'ICUSTAY_ID','ITEMID')\\\n",
    "    .agg(F.min('VALUENUM').alias('min_value'),\\\n",
    "         F.max('VALUENUM').alias('max_value'),\\\n",
    "         F.avg('VALUENUM').alias('avg_value'),\\\n",
    "         F.count('VALUENUM').alias('count'),\\\n",
    "    )"
   ]
  },
  {
   "cell_type": "code",
   "execution_count": null,
   "metadata": {},
   "outputs": [],
   "source": [
    "writeParquet(agg24h,\"agg24h.parquet\")"
   ]
  },
  {
   "cell_type": "markdown",
   "metadata": {},
   "source": [
    "## (6) Generate final Pandas dataframe"
   ]
  },
  {
   "cell_type": "code",
   "execution_count": null,
   "metadata": {},
   "outputs": [],
   "source": [
    "%%time\n",
    "\n",
    "icustay_df = agg24h.join(tempos,tempos.ICUSTAY_ID == agg24h.ICUSTAY_ID)\\\n",
    "                   .select(agg24h.SUBJECT_ID, agg24h.HADM_ID, agg24h.ICUSTAY_ID, agg24h.ITEMID, \n",
    "                           agg24h.min_value, agg24h.max_value, agg24h.avg_value, tempos.duration)\n",
    "\n",
    "# Convert spark dataframe to pandas dataframe\n",
    "icustay_df = icustay_df.toPandas()\n",
    "\n",
    "# Replace NaN values with 1\n",
    "icustay_df.fillna(1, inplace=True)\n",
    "\n",
    "# Pivot table\n",
    "icustay_df = icustay_df.pivot_table('avg_value', ['SUBJECT_ID', 'HADM_ID', 'ICUSTAY_ID', 'duration'], 'ITEMID')\n",
    "icustay_df.reset_index(inplace=True)\n",
    "icustay_df.columns = icustay_df.columns.astype(str)\n",
    "\n",
    "# Replace NaN values with 0\n",
    "icustay_df.fillna(0, inplace=True)"
   ]
  },
  {
   "cell_type": "code",
   "execution_count": null,
   "metadata": {},
   "outputs": [],
   "source": [
    "# Serialize (pickle) to binary python object\n",
    "icustay_df.to_pickle('cached_dataframe.pkl')"
   ]
  },
  {
   "cell_type": "markdown",
   "metadata": {},
   "source": [
    "---"
   ]
  },
  {
   "cell_type": "markdown",
   "metadata": {},
   "source": [
    "## (7) Read parquet files"
   ]
  },
  {
   "cell_type": "code",
   "execution_count": null,
   "metadata": {
    "scrolled": true
   },
   "outputs": [],
   "source": [
    "database = readParquet(\"database.parquet\")\n",
    "database.cache()"
   ]
  },
  {
   "cell_type": "code",
   "execution_count": null,
   "metadata": {},
   "outputs": [],
   "source": [
    "admissions = readParquet(\"admissions.parquet\")\n",
    "admissions.cache()"
   ]
  },
  {
   "cell_type": "code",
   "execution_count": null,
   "metadata": {},
   "outputs": [],
   "source": [
    "diagnoses_icd = readParquet(\"diagnoses_icd.parquet\")\n",
    "diagnoses_icd.cache()"
   ]
  },
  {
   "cell_type": "code",
   "execution_count": null,
   "metadata": {},
   "outputs": [],
   "source": [
    "d_icd_diagnoses = readParquet(\"d_icd_diagnoses.parquet\")\n",
    "d_icd_diagnoses.cache()"
   ]
  },
  {
   "cell_type": "code",
   "execution_count": null,
   "metadata": {},
   "outputs": [],
   "source": [
    "d_icd_procedures = readParquet(\"d_icd_procedures.parquet\")\n",
    "d_icd_procedures.cache()"
   ]
  },
  {
   "cell_type": "code",
   "execution_count": 14,
   "metadata": {},
   "outputs": [
    {
     "data": {
      "text/plain": [
       "DataFrame[ROW_ID: int, ITEMID: int, LABEL: string, ABBREVIATION: string, DBSOURCE: string, LINKSTO: string, CATEGORY: string, UNITNAME: string, PARAM_TYPE: string, CONCEPTID: string]"
      ]
     },
     "execution_count": 14,
     "metadata": {},
     "output_type": "execute_result"
    }
   ],
   "source": [
    "d_items = readParquet(\"d_items.parquet\")\n",
    "d_items.cache()"
   ]
  },
  {
   "cell_type": "code",
   "execution_count": 15,
   "metadata": {},
   "outputs": [
    {
     "data": {
      "text/plain": [
       "DataFrame[SUBJECT_ID: int, HADM_ID: int, ICUSTAY_ID: int, first_timestamp: timestamp, last_timestamp: timestamp, duration: double]"
      ]
     },
     "execution_count": 15,
     "metadata": {},
     "output_type": "execute_result"
    }
   ],
   "source": [
    "tempos = readParquet(\"tempos.parquet\")\n",
    "tempos.cache()"
   ]
  },
  {
   "cell_type": "code",
   "execution_count": 16,
   "metadata": {},
   "outputs": [
    {
     "data": {
      "text/plain": [
       "DataFrame[SUBJECT_ID: int, HADM_ID: int, ICUSTAY_ID: int, ITEMID: int, CHARTTIME: timestamp, CGID: int, VALUE: string, VALUENUM: double, VALUEUOM: string]"
      ]
     },
     "execution_count": 16,
     "metadata": {},
     "output_type": "execute_result"
    }
   ],
   "source": [
    "database24h = readParquet(\"database24h.parquet\")\n",
    "database24h.cache()"
   ]
  },
  {
   "cell_type": "code",
   "execution_count": 17,
   "metadata": {},
   "outputs": [
    {
     "data": {
      "text/plain": [
       "DataFrame[SUBJECT_ID: int, HADM_ID: int, ICUSTAY_ID: int, ITEMID: int, min_value: double, max_value: double, avg_value: double, count: bigint]"
      ]
     },
     "execution_count": 17,
     "metadata": {},
     "output_type": "execute_result"
    }
   ],
   "source": [
    "agg24h = readParquet(\"agg24h.parquet\")\n",
    "agg24h.cache()"
   ]
  },
  {
   "cell_type": "code",
   "execution_count": 29,
   "metadata": {},
   "outputs": [
    {
     "data": {
      "text/html": [
       "<div>\n",
       "<style scoped>\n",
       "    .dataframe tbody tr th:only-of-type {\n",
       "        vertical-align: middle;\n",
       "    }\n",
       "\n",
       "    .dataframe tbody tr th {\n",
       "        vertical-align: top;\n",
       "    }\n",
       "\n",
       "    .dataframe thead th {\n",
       "        text-align: right;\n",
       "    }\n",
       "</style>\n",
       "<table border=\"1\" class=\"dataframe\">\n",
       "  <thead>\n",
       "    <tr style=\"text-align: right;\">\n",
       "      <th>ITEMID</th>\n",
       "      <th>SUBJECT_ID</th>\n",
       "      <th>HADM_ID</th>\n",
       "      <th>ICUSTAY_ID</th>\n",
       "      <th>duration</th>\n",
       "      <th>1</th>\n",
       "      <th>2</th>\n",
       "      <th>3</th>\n",
       "      <th>4</th>\n",
       "      <th>5</th>\n",
       "      <th>6</th>\n",
       "      <th>...</th>\n",
       "      <th>228442</th>\n",
       "      <th>228443</th>\n",
       "      <th>228444</th>\n",
       "      <th>228445</th>\n",
       "      <th>228446</th>\n",
       "      <th>228447</th>\n",
       "      <th>228448</th>\n",
       "      <th>228449</th>\n",
       "      <th>228450</th>\n",
       "      <th>228451</th>\n",
       "    </tr>\n",
       "  </thead>\n",
       "  <tbody>\n",
       "    <tr>\n",
       "      <th>0</th>\n",
       "      <td>2</td>\n",
       "      <td>163353</td>\n",
       "      <td>243653</td>\n",
       "      <td>100.0</td>\n",
       "      <td>0.0</td>\n",
       "      <td>0.0</td>\n",
       "      <td>0.0</td>\n",
       "      <td>0.0</td>\n",
       "      <td>0.0</td>\n",
       "      <td>0.0</td>\n",
       "      <td>...</td>\n",
       "      <td>0.0</td>\n",
       "      <td>0.0</td>\n",
       "      <td>0.0</td>\n",
       "      <td>0.0</td>\n",
       "      <td>0.0</td>\n",
       "      <td>0.0</td>\n",
       "      <td>0.0</td>\n",
       "      <td>0.0</td>\n",
       "      <td>0.0</td>\n",
       "      <td>0.0</td>\n",
       "    </tr>\n",
       "    <tr>\n",
       "      <th>1</th>\n",
       "      <td>3</td>\n",
       "      <td>145834</td>\n",
       "      <td>211552</td>\n",
       "      <td>8580.0</td>\n",
       "      <td>0.0</td>\n",
       "      <td>0.0</td>\n",
       "      <td>0.0</td>\n",
       "      <td>0.0</td>\n",
       "      <td>0.0</td>\n",
       "      <td>0.0</td>\n",
       "      <td>...</td>\n",
       "      <td>0.0</td>\n",
       "      <td>0.0</td>\n",
       "      <td>0.0</td>\n",
       "      <td>0.0</td>\n",
       "      <td>0.0</td>\n",
       "      <td>0.0</td>\n",
       "      <td>0.0</td>\n",
       "      <td>0.0</td>\n",
       "      <td>0.0</td>\n",
       "      <td>0.0</td>\n",
       "    </tr>\n",
       "    <tr>\n",
       "      <th>2</th>\n",
       "      <td>4</td>\n",
       "      <td>185777</td>\n",
       "      <td>294638</td>\n",
       "      <td>2251.0</td>\n",
       "      <td>0.0</td>\n",
       "      <td>0.0</td>\n",
       "      <td>0.0</td>\n",
       "      <td>0.0</td>\n",
       "      <td>0.0</td>\n",
       "      <td>0.0</td>\n",
       "      <td>...</td>\n",
       "      <td>0.0</td>\n",
       "      <td>0.0</td>\n",
       "      <td>0.0</td>\n",
       "      <td>0.0</td>\n",
       "      <td>0.0</td>\n",
       "      <td>0.0</td>\n",
       "      <td>0.0</td>\n",
       "      <td>0.0</td>\n",
       "      <td>0.0</td>\n",
       "      <td>0.0</td>\n",
       "    </tr>\n",
       "    <tr>\n",
       "      <th>3</th>\n",
       "      <td>5</td>\n",
       "      <td>178980</td>\n",
       "      <td>214757</td>\n",
       "      <td>15.0</td>\n",
       "      <td>0.0</td>\n",
       "      <td>0.0</td>\n",
       "      <td>0.0</td>\n",
       "      <td>0.0</td>\n",
       "      <td>0.0</td>\n",
       "      <td>0.0</td>\n",
       "      <td>...</td>\n",
       "      <td>0.0</td>\n",
       "      <td>0.0</td>\n",
       "      <td>0.0</td>\n",
       "      <td>0.0</td>\n",
       "      <td>0.0</td>\n",
       "      <td>0.0</td>\n",
       "      <td>0.0</td>\n",
       "      <td>0.0</td>\n",
       "      <td>0.0</td>\n",
       "      <td>0.0</td>\n",
       "    </tr>\n",
       "    <tr>\n",
       "      <th>4</th>\n",
       "      <td>6</td>\n",
       "      <td>107064</td>\n",
       "      <td>228232</td>\n",
       "      <td>5250.0</td>\n",
       "      <td>0.0</td>\n",
       "      <td>0.0</td>\n",
       "      <td>0.0</td>\n",
       "      <td>0.0</td>\n",
       "      <td>0.0</td>\n",
       "      <td>0.0</td>\n",
       "      <td>...</td>\n",
       "      <td>0.0</td>\n",
       "      <td>0.0</td>\n",
       "      <td>0.0</td>\n",
       "      <td>0.0</td>\n",
       "      <td>0.0</td>\n",
       "      <td>0.0</td>\n",
       "      <td>0.0</td>\n",
       "      <td>0.0</td>\n",
       "      <td>0.0</td>\n",
       "      <td>0.0</td>\n",
       "    </tr>\n",
       "  </tbody>\n",
       "</table>\n",
       "<p>5 rows × 4391 columns</p>\n",
       "</div>"
      ],
      "text/plain": [
       "ITEMID  SUBJECT_ID  HADM_ID  ICUSTAY_ID  duration    1    2    3    4    5  \\\n",
       "0                2   163353      243653     100.0  0.0  0.0  0.0  0.0  0.0   \n",
       "1                3   145834      211552    8580.0  0.0  0.0  0.0  0.0  0.0   \n",
       "2                4   185777      294638    2251.0  0.0  0.0  0.0  0.0  0.0   \n",
       "3                5   178980      214757      15.0  0.0  0.0  0.0  0.0  0.0   \n",
       "4                6   107064      228232    5250.0  0.0  0.0  0.0  0.0  0.0   \n",
       "\n",
       "ITEMID    6  ...  228442  228443  228444  228445  228446  228447  228448  \\\n",
       "0       0.0  ...     0.0     0.0     0.0     0.0     0.0     0.0     0.0   \n",
       "1       0.0  ...     0.0     0.0     0.0     0.0     0.0     0.0     0.0   \n",
       "2       0.0  ...     0.0     0.0     0.0     0.0     0.0     0.0     0.0   \n",
       "3       0.0  ...     0.0     0.0     0.0     0.0     0.0     0.0     0.0   \n",
       "4       0.0  ...     0.0     0.0     0.0     0.0     0.0     0.0     0.0   \n",
       "\n",
       "ITEMID  228449  228450  228451  \n",
       "0          0.0     0.0     0.0  \n",
       "1          0.0     0.0     0.0  \n",
       "2          0.0     0.0     0.0  \n",
       "3          0.0     0.0     0.0  \n",
       "4          0.0     0.0     0.0  \n",
       "\n",
       "[5 rows x 4391 columns]"
      ]
     },
     "execution_count": 29,
     "metadata": {},
     "output_type": "execute_result"
    }
   ],
   "source": [
    "icustay_df = pd.read_pickle('cached_dataframe.pkl')\n",
    "icustay_df.head()"
   ]
  },
  {
   "cell_type": "markdown",
   "metadata": {},
   "source": [
    "---"
   ]
  },
  {
   "cell_type": "markdown",
   "metadata": {},
   "source": [
    "# (8) Exploratory data analysis"
   ]
  },
  {
   "cell_type": "code",
   "execution_count": 14,
   "metadata": {},
   "outputs": [
    {
     "data": {
      "text/html": [
       "<div>\n",
       "<style scoped>\n",
       "    .dataframe tbody tr th:only-of-type {\n",
       "        vertical-align: middle;\n",
       "    }\n",
       "\n",
       "    .dataframe tbody tr th {\n",
       "        vertical-align: top;\n",
       "    }\n",
       "\n",
       "    .dataframe thead th {\n",
       "        text-align: right;\n",
       "    }\n",
       "</style>\n",
       "<table border=\"1\" class=\"dataframe\">\n",
       "  <thead>\n",
       "    <tr style=\"text-align: right;\">\n",
       "      <th>ITEMID</th>\n",
       "      <th>SUBJECT_ID</th>\n",
       "      <th>HADM_ID</th>\n",
       "      <th>ICUSTAY_ID</th>\n",
       "      <th>duration</th>\n",
       "      <th>1</th>\n",
       "      <th>2</th>\n",
       "      <th>3</th>\n",
       "      <th>4</th>\n",
       "      <th>5</th>\n",
       "      <th>6</th>\n",
       "      <th>...</th>\n",
       "      <th>228442</th>\n",
       "      <th>228443</th>\n",
       "      <th>228444</th>\n",
       "      <th>228445</th>\n",
       "      <th>228446</th>\n",
       "      <th>228447</th>\n",
       "      <th>228448</th>\n",
       "      <th>228449</th>\n",
       "      <th>228450</th>\n",
       "      <th>228451</th>\n",
       "    </tr>\n",
       "  </thead>\n",
       "  <tbody>\n",
       "    <tr>\n",
       "      <th>0</th>\n",
       "      <td>2</td>\n",
       "      <td>163353</td>\n",
       "      <td>243653</td>\n",
       "      <td>100.0</td>\n",
       "      <td>0.0</td>\n",
       "      <td>0.0</td>\n",
       "      <td>0.0</td>\n",
       "      <td>0.0</td>\n",
       "      <td>0.0</td>\n",
       "      <td>0.0</td>\n",
       "      <td>...</td>\n",
       "      <td>0.0</td>\n",
       "      <td>0.0</td>\n",
       "      <td>0.0</td>\n",
       "      <td>0.0</td>\n",
       "      <td>0.0</td>\n",
       "      <td>0.0</td>\n",
       "      <td>0.0</td>\n",
       "      <td>0.0</td>\n",
       "      <td>0.0</td>\n",
       "      <td>0.0</td>\n",
       "    </tr>\n",
       "    <tr>\n",
       "      <th>1</th>\n",
       "      <td>3</td>\n",
       "      <td>145834</td>\n",
       "      <td>211552</td>\n",
       "      <td>8580.0</td>\n",
       "      <td>0.0</td>\n",
       "      <td>0.0</td>\n",
       "      <td>0.0</td>\n",
       "      <td>0.0</td>\n",
       "      <td>0.0</td>\n",
       "      <td>0.0</td>\n",
       "      <td>...</td>\n",
       "      <td>0.0</td>\n",
       "      <td>0.0</td>\n",
       "      <td>0.0</td>\n",
       "      <td>0.0</td>\n",
       "      <td>0.0</td>\n",
       "      <td>0.0</td>\n",
       "      <td>0.0</td>\n",
       "      <td>0.0</td>\n",
       "      <td>0.0</td>\n",
       "      <td>0.0</td>\n",
       "    </tr>\n",
       "    <tr>\n",
       "      <th>2</th>\n",
       "      <td>4</td>\n",
       "      <td>185777</td>\n",
       "      <td>294638</td>\n",
       "      <td>2251.0</td>\n",
       "      <td>0.0</td>\n",
       "      <td>0.0</td>\n",
       "      <td>0.0</td>\n",
       "      <td>0.0</td>\n",
       "      <td>0.0</td>\n",
       "      <td>0.0</td>\n",
       "      <td>...</td>\n",
       "      <td>0.0</td>\n",
       "      <td>0.0</td>\n",
       "      <td>0.0</td>\n",
       "      <td>0.0</td>\n",
       "      <td>0.0</td>\n",
       "      <td>0.0</td>\n",
       "      <td>0.0</td>\n",
       "      <td>0.0</td>\n",
       "      <td>0.0</td>\n",
       "      <td>0.0</td>\n",
       "    </tr>\n",
       "    <tr>\n",
       "      <th>3</th>\n",
       "      <td>5</td>\n",
       "      <td>178980</td>\n",
       "      <td>214757</td>\n",
       "      <td>15.0</td>\n",
       "      <td>0.0</td>\n",
       "      <td>0.0</td>\n",
       "      <td>0.0</td>\n",
       "      <td>0.0</td>\n",
       "      <td>0.0</td>\n",
       "      <td>0.0</td>\n",
       "      <td>...</td>\n",
       "      <td>0.0</td>\n",
       "      <td>0.0</td>\n",
       "      <td>0.0</td>\n",
       "      <td>0.0</td>\n",
       "      <td>0.0</td>\n",
       "      <td>0.0</td>\n",
       "      <td>0.0</td>\n",
       "      <td>0.0</td>\n",
       "      <td>0.0</td>\n",
       "      <td>0.0</td>\n",
       "    </tr>\n",
       "    <tr>\n",
       "      <th>4</th>\n",
       "      <td>6</td>\n",
       "      <td>107064</td>\n",
       "      <td>228232</td>\n",
       "      <td>5250.0</td>\n",
       "      <td>0.0</td>\n",
       "      <td>0.0</td>\n",
       "      <td>0.0</td>\n",
       "      <td>0.0</td>\n",
       "      <td>0.0</td>\n",
       "      <td>0.0</td>\n",
       "      <td>...</td>\n",
       "      <td>0.0</td>\n",
       "      <td>0.0</td>\n",
       "      <td>0.0</td>\n",
       "      <td>0.0</td>\n",
       "      <td>0.0</td>\n",
       "      <td>0.0</td>\n",
       "      <td>0.0</td>\n",
       "      <td>0.0</td>\n",
       "      <td>0.0</td>\n",
       "      <td>0.0</td>\n",
       "    </tr>\n",
       "  </tbody>\n",
       "</table>\n",
       "<p>5 rows × 4391 columns</p>\n",
       "</div>"
      ],
      "text/plain": [
       "ITEMID  SUBJECT_ID  HADM_ID  ICUSTAY_ID  duration    1    2    3    4    5  \\\n",
       "0                2   163353      243653     100.0  0.0  0.0  0.0  0.0  0.0   \n",
       "1                3   145834      211552    8580.0  0.0  0.0  0.0  0.0  0.0   \n",
       "2                4   185777      294638    2251.0  0.0  0.0  0.0  0.0  0.0   \n",
       "3                5   178980      214757      15.0  0.0  0.0  0.0  0.0  0.0   \n",
       "4                6   107064      228232    5250.0  0.0  0.0  0.0  0.0  0.0   \n",
       "\n",
       "ITEMID    6  ...  228442  228443  228444  228445  228446  228447  228448  \\\n",
       "0       0.0  ...     0.0     0.0     0.0     0.0     0.0     0.0     0.0   \n",
       "1       0.0  ...     0.0     0.0     0.0     0.0     0.0     0.0     0.0   \n",
       "2       0.0  ...     0.0     0.0     0.0     0.0     0.0     0.0     0.0   \n",
       "3       0.0  ...     0.0     0.0     0.0     0.0     0.0     0.0     0.0   \n",
       "4       0.0  ...     0.0     0.0     0.0     0.0     0.0     0.0     0.0   \n",
       "\n",
       "ITEMID  228449  228450  228451  \n",
       "0          0.0     0.0     0.0  \n",
       "1          0.0     0.0     0.0  \n",
       "2          0.0     0.0     0.0  \n",
       "3          0.0     0.0     0.0  \n",
       "4          0.0     0.0     0.0  \n",
       "\n",
       "[5 rows x 4391 columns]"
      ]
     },
     "execution_count": 14,
     "metadata": {},
     "output_type": "execute_result"
    }
   ],
   "source": [
    "icustay_df.head()"
   ]
  },
  {
   "cell_type": "code",
   "execution_count": 13,
   "metadata": {},
   "outputs": [
    {
     "data": {
      "text/plain": [
       "(61301, 4391)"
      ]
     },
     "execution_count": 13,
     "metadata": {},
     "output_type": "execute_result"
    }
   ],
   "source": [
    "icustay_df.shape"
   ]
  },
  {
   "cell_type": "code",
   "execution_count": 12,
   "metadata": {},
   "outputs": [
    {
     "name": "stdout",
     "output_type": "stream",
     "text": [
      "CPU times: user 64 ms, sys: 0 ns, total: 64 ms\n",
      "Wall time: 63 ms\n"
     ]
    },
    {
     "data": {
      "image/png": "[encoded data removed]",
      "text/plain": [
       "<Figure size 432x288 with 1 Axes>"
      ]
     },
     "metadata": {
      "needs_background": "light"
     },
     "output_type": "display_data"
    }
   ],
   "source": [
    "%%time\n",
    "sns.distplot(icustay_df['duration'], kde=False)\n",
    "\n",
    "# Add labels\n",
    "plt.title('Histogram of ICU stay duration (min)')\n",
    "plt.xlabel('duration (min)')\n",
    "plt.ylabel('frequency')"
   ]
  },
  {
   "cell_type": "code",
   "execution_count": 11,
   "metadata": {},
   "outputs": [
    {
     "name": "stdout",
     "output_type": "stream",
     "text": [
      "CPU times: user 436 ms, sys: 20 ms, total: 456 ms\n",
      "Wall time: 57 s\n"
     ]
    },
    {
     "data": {
      "image/png": "[encoded data removed]",
      "text/plain": [
       "<Figure size 432x288 with 1 Axes>"
      ]
     },
     "metadata": {
      "needs_background": "light"
     },
     "output_type": "display_data"
    }
   ],
   "source": [
    "%%time\n",
    "sns.distplot(agg24h.groupBy(\"ICUSTAY_ID\").agg(F.count(\"ITEMID\").alias('count')).toPandas()['count'], kde=False)\n",
    "\n",
    "# Add labels\n",
    "plt.title('Histogram of the number of items per ICU stay')\n",
    "plt.xlabel('number of items')\n",
    "plt.ylabel('frequency')"
   ]
  },
  {
   "cell_type": "code",
   "execution_count": 19,
   "metadata": {},
   "outputs": [
    {
     "name": "stdout",
     "output_type": "stream",
     "text": [
      "+----------------------+\n",
      "|count(DISTINCT ITEMID)|\n",
      "+----------------------+\n",
      "|                  4387|\n",
      "+----------------------+\n",
      "\n"
     ]
    }
   ],
   "source": [
    "tmp = agg24h.groupBy(\"ITEMID\").agg(F.count(\"ITEMID\").alias('count')).orderBy('count', ascending=False)\n",
    "tmp.select(F.countDistinct(\"ITEMID\")).show()"
   ]
  },
  {
   "cell_type": "code",
   "execution_count": 20,
   "metadata": {
    "scrolled": false
   },
   "outputs": [
    {
     "name": "stdout",
     "output_type": "stream",
     "text": [
      "+------+-------------------+-----+\n",
      "|ITEMID|              LABEL|count|\n",
      "+------+-------------------+-----+\n",
      "|   211|         Heart Rate|36770|\n",
      "|    31|           Activity|35567|\n",
      "|   926|           Religion|35222|\n",
      "|    80|       Bowel Sounds|32304|\n",
      "|   829|Potassium (3.5-5.3)|29087|\n",
      "+------+-------------------+-----+\n",
      "\n"
     ]
    }
   ],
   "source": [
    "# Top 10 items\n",
    "tmp = tmp.limit(5).alias('tmp')\n",
    "tmp = d_items.join(tmp, d_items.ITEMID == tmp.ITEMID).select('tmp.ITEMID', 'LABEL', 'tmp.count')\\\n",
    "             .orderBy('count', ascending=False)\n",
    "tmp.show()"
   ]
  },
  {
   "cell_type": "code",
   "execution_count": 17,
   "metadata": {},
   "outputs": [
    {
     "name": "stdout",
     "output_type": "stream",
     "text": [
      "CPU times: user 76 ms, sys: 4 ms, total: 80 ms\n",
      "Wall time: 82.9 ms\n"
     ]
    },
    {
     "data": {
      "image/png": "[encoded data removed]",
      "text/plain": [
       "<Figure size 432x288 with 1 Axes>"
      ]
     },
     "metadata": {
      "needs_background": "light"
     },
     "output_type": "display_data"
    }
   ],
   "source": [
    "%%time\n",
    "sns.distplot(icustay_df['211'], kde=False)\n",
    "\n",
    "# Add labels\n",
    "plt.title('Histogram of the Heart Rate measurements')\n",
    "plt.xlabel('heart rate')\n",
    "plt.ylabel('frequency')"
   ]
  },
  {
   "cell_type": "code",
   "execution_count": 24,
   "metadata": {},
   "outputs": [
    {
     "name": "stdout",
     "output_type": "stream",
     "text": [
      "CPU times: user 72 ms, sys: 8 ms, total: 80 ms\n",
      "Wall time: 79 ms\n"
     ]
    },
    {
     "data": {
      "image/png": "[encoded data removed]",
      "text/plain": [
       "<Figure size 432x288 with 2 Axes>"
      ]
     },
     "metadata": {
      "needs_background": "light"
     },
     "output_type": "display_data"
    }
   ],
   "source": [
    "%%time\n",
    "\n",
    "corr = icustay_df[['duration', '211', '31', '926', '80', '829']].corr()\n",
    "sns.heatmap(corr)"
   ]
  },
  {
   "cell_type": "markdown",
   "metadata": {},
   "source": [
    "---"
   ]
  },
  {
   "cell_type": "markdown",
   "metadata": {},
   "source": [
    "# (9) Prediction model"
   ]
  },
  {
   "cell_type": "code",
   "execution_count": 18,
   "metadata": {},
   "outputs": [
    {
     "name": "stderr",
     "output_type": "stream",
     "text": [
      "Using TensorFlow backend.\n"
     ]
    }
   ],
   "source": [
    "#!pip install keras\n",
    "from keras.models import Sequential\n",
    "from keras.layers import Dense\n",
    "from keras.optimizers import Adam, Nadam\n",
    "from keras.wrappers.scikit_learn import KerasRegressor\n",
    "from sklearn.model_selection import cross_val_score\n",
    "from sklearn.model_selection import KFold\n",
    "from sklearn.preprocessing import StandardScaler\n",
    "from sklearn.pipeline import Pipeline"
   ]
  },
  {
   "cell_type": "code",
   "execution_count": null,
   "metadata": {
    "scrolled": true
   },
   "outputs": [],
   "source": [
    "from sklearn.preprocessing import MinMaxScaler\n",
    "# create scaler\n",
    "scaler = MinMaxScaler(feature_range=(-1,1))\n",
    "# fit scaler on data\n",
    "scaler.fit(icustay_df)\n",
    "# apply transform\n",
    "normalized = scaler.transform(icustay_df)\n",
    "final_df = pd.DataFrame(normalized, columns=icustay_df.columns, index=icustay_df.index)"
   ]
  },
  {
   "cell_type": "code",
   "execution_count": 20,
   "metadata": {},
   "outputs": [],
   "source": [
    "target_column = ['duration'] \n",
    "unused_columns = ['SUBJECT_ID', 'HADM_ID', 'ICUSTAY_ID']\n",
    "predictors = list(set(list(final_df.columns))-set(target_column)-set(unused_columns))"
   ]
  },
  {
   "cell_type": "code",
   "execution_count": 21,
   "metadata": {},
   "outputs": [
    {
     "name": "stdout",
     "output_type": "stream",
     "text": [
      "(42910, 4387)\n",
      "(18391, 4387)\n"
     ]
    }
   ],
   "source": [
    "from sklearn.model_selection import train_test_split\n",
    "from sklearn.metrics import mean_squared_error\n",
    "\n",
    "X = final_df[predictors].values\n",
    "y = final_df[target_column].values\n",
    "\n",
    "X_train, X_test, y_train, y_test = train_test_split(X, y, test_size=0.30, random_state=40)\n",
    "print(X_train.shape); print(X_test.shape)"
   ]
  },
  {
   "cell_type": "code",
   "execution_count": 39,
   "metadata": {},
   "outputs": [
    {
     "name": "stdout",
     "output_type": "stream",
     "text": [
      "_________________________________________________________________\n",
      "Layer (type)                 Output Shape              Param #   \n",
      "=================================================================\n",
      "dense_11 (Dense)             (None, 128)               561664    \n",
      "_________________________________________________________________\n",
      "dense_12 (Dense)             (None, 1)                 129       \n",
      "=================================================================\n",
      "Total params: 561,793\n",
      "Trainable params: 561,793\n",
      "Non-trainable params: 0\n",
      "_________________________________________________________________\n"
     ]
    }
   ],
   "source": [
    "# Define model\n",
    "model = Sequential()\n",
    "\n",
    "# The Hidden Layer :\n",
    "model.add(Dense(128, input_dim = X_train.shape[1], activation='relu'))\n",
    "\n",
    "# The Output Layer :\n",
    "model.add(Dense(1, activation='linear'))\n",
    "\n",
    "# Compile the network :\n",
    "model.compile(loss='mean_squared_error', optimizer=Adam(), metrics=['mean_squared_error'])\n",
    "model.summary()"
   ]
  },
  {
   "cell_type": "code",
   "execution_count": 40,
   "metadata": {
    "scrolled": false
   },
   "outputs": [
    {
     "name": "stdout",
     "output_type": "stream",
     "text": [
      "Train on 42910 samples, validate on 18391 samples\n",
      "Epoch 1/15\n",
      "42910/42910 [==============================] - 11s 248us/step - loss: 0.2839 - mean_squared_error: 0.2839 - val_loss: 0.0095 - val_mean_squared_error: 0.0095\n",
      "Epoch 2/15\n",
      "42910/42910 [==============================] - 10s 230us/step - loss: 0.0097 - mean_squared_error: 0.0097 - val_loss: 0.0077 - val_mean_squared_error: 0.0077\n",
      "Epoch 3/15\n",
      "42910/42910 [==============================] - 10s 228us/step - loss: 0.0089 - mean_squared_error: 0.0089 - val_loss: 0.0090 - val_mean_squared_error: 0.0090\n",
      "Epoch 4/15\n",
      "42910/42910 [==============================] - 10s 228us/step - loss: 0.0088 - mean_squared_error: 0.0088 - val_loss: 0.0079 - val_mean_squared_error: 0.0079\n",
      "Epoch 5/15\n",
      "42910/42910 [==============================] - 10s 235us/step - loss: 0.0085 - mean_squared_error: 0.0085 - val_loss: 0.0076 - val_mean_squared_error: 0.0076\n",
      "Epoch 6/15\n",
      "42910/42910 [==============================] - 10s 228us/step - loss: 0.0079 - mean_squared_error: 0.0079 - val_loss: 0.0090 - val_mean_squared_error: 0.0090\n",
      "Epoch 7/15\n",
      "42910/42910 [==============================] - 10s 233us/step - loss: 0.0079 - mean_squared_error: 0.0079 - val_loss: 0.0068 - val_mean_squared_error: 0.0068\n",
      "Epoch 8/15\n",
      "42910/42910 [==============================] - 10s 231us/step - loss: 0.0077 - mean_squared_error: 0.0077 - val_loss: 0.0070 - val_mean_squared_error: 0.0070\n",
      "Epoch 9/15\n",
      "42910/42910 [==============================] - 10s 230us/step - loss: 0.0077 - mean_squared_error: 0.0077 - val_loss: 0.0070 - val_mean_squared_error: 0.0070\n",
      "Epoch 10/15\n",
      "42910/42910 [==============================] - 10s 232us/step - loss: 0.0077 - mean_squared_error: 0.0077 - val_loss: 0.0067 - val_mean_squared_error: 0.0067\n",
      "Epoch 11/15\n",
      "42910/42910 [==============================] - 10s 231us/step - loss: 0.0076 - mean_squared_error: 0.0076 - val_loss: 0.0074 - val_mean_squared_error: 0.0074\n",
      "Epoch 12/15\n",
      "42910/42910 [==============================] - 10s 240us/step - loss: 0.0076 - mean_squared_error: 0.0076 - val_loss: 0.0084 - val_mean_squared_error: 0.0084\n",
      "Epoch 13/15\n",
      "42910/42910 [==============================] - 10s 230us/step - loss: 0.0074 - mean_squared_error: 0.0074 - val_loss: 0.0067 - val_mean_squared_error: 0.0067\n",
      "Epoch 14/15\n",
      "42910/42910 [==============================] - 10s 229us/step - loss: 0.0073 - mean_squared_error: 0.0073 - val_loss: 0.0066 - val_mean_squared_error: 0.0066\n",
      "Epoch 15/15\n",
      "42910/42910 [==============================] - 10s 232us/step - loss: 0.0073 - mean_squared_error: 0.0073 - val_loss: 0.0066 - val_mean_squared_error: 0.0066\n"
     ]
    }
   ],
   "source": [
    "history = model.fit(X_train, y_train,\n",
    "                    batch_size=32,\n",
    "                    epochs=15,\n",
    "                    verbose=1,\n",
    "                    validation_data=(X_test, y_test))"
   ]
  },
  {
   "cell_type": "code",
   "execution_count": 41,
   "metadata": {},
   "outputs": [
    {
     "name": "stdout",
     "output_type": "stream",
     "text": [
      "Test accuracy: 0.0066115863224317575\n"
     ]
    }
   ],
   "source": [
    "scores = model.evaluate(X_test, y_test, verbose=0)\n",
    "print('Test accuracy:', scores[1])"
   ]
  },
  {
   "cell_type": "code",
   "execution_count": 42,
   "metadata": {},
   "outputs": [
    {
     "data": {
      "text/plain": [
       "<matplotlib.legend.Legend at 0x7f765e519ef0>"
      ]
     },
     "execution_count": 42,
     "metadata": {},
     "output_type": "execute_result"
    },
    {
     "data": {
      "image/png": "[encoded data removed]",
      "text/plain": [
       "<Figure size 432x288 with 1 Axes>"
      ]
     },
     "metadata": {
      "needs_background": "light"
     },
     "output_type": "display_data"
    }
   ],
   "source": [
    "import matplotlib.pyplot as plt\n",
    "plt.plot(history.history['mean_squared_error'])\n",
    "plt.plot(history.history['val_mean_squared_error'])\n",
    "\n",
    "plt.title('Train and test performances')\n",
    "plt.ylabel('MSE')\n",
    "plt.xlabel('epoch')\n",
    "plt.legend(['Train MSE', 'Test MSE'], loc='upper right')"
   ]
  },
  {
   "cell_type": "code",
   "execution_count": 43,
   "metadata": {},
   "outputs": [
    {
     "data": {
      "image/png": "[encoded data removed]",
      "text/plain": [
       "<Figure size 432x288 with 1 Axes>"
      ]
     },
     "metadata": {
      "needs_background": "light"
     },
     "output_type": "display_data"
    }
   ],
   "source": [
    "test_predictions = model.predict(X_test)\n",
    "\n",
    "plt.scatter(y_test, test_predictions)\n",
    "plt.xlabel('True Values')\n",
    "plt.ylabel('Predictions')\n",
    "_ = plt.plot([-1, 1], [-1, 1])"
   ]
  },
  {
   "cell_type": "markdown",
   "metadata": {},
   "source": [
    "---"
   ]
  },
  {
   "cell_type": "code",
   "execution_count": null,
   "metadata": {},
   "outputs": [],
   "source": []
  }
 ],
 "metadata": {
  "kernelspec": {
   "display_name": "Python 3",
   "language": "python",
   "name": "python3"
  },
  "language_info": {
   "codemirror_mode": {
    "name": "ipython",
    "version": 3
   },
   "file_extension": ".py",
   "mimetype": "text/x-python",
   "name": "python",
   "nbconvert_exporter": "python",
   "pygments_lexer": "ipython3",
   "version": "3.7.4"
  },
  "varInspector": {
   "cols": {
    "lenName": 16,
    "lenType": 16,
    "lenVar": 40
   },
   "kernels_config": {
    "python": {
     "delete_cmd_postfix": "",
     "delete_cmd_prefix": "del ",
     "library": "var_list.py",
     "varRefreshCmd": "print(var_dic_list())"
    },
    "r": {
     "delete_cmd_postfix": ") ",
     "delete_cmd_prefix": "rm(",
     "library": "var_list.r",
     "varRefreshCmd": "cat(var_dic_list()) "
    }
   },
   "types_to_exclude": [
    "module",
    "function",
    "builtin_function_or_method",
    "instance",
    "_Feature"
   ],
   "window_display": false
  }
 },
 "nbformat": 4,
 "nbformat_minor": 2
}
